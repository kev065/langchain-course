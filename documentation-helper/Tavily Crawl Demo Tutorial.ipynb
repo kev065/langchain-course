{
 "cells": [
  {
   "cell_type": "markdown",
   "metadata": {
    "vscode": {
     "languageId": "raw"
    }
   },
   "source": [
    "# 🤖 TavilyCrawl Tutorial: Intelligent Web Crawling\n",
    "\n",
    "> **📚 Part of the LangChain - Develop AI Agents with LangChain & LangGraph**  \n",
    "> [🎓 Get the full course](https://www.udemy.com/course/langchain/?referralCode=D981B8213164A3EA91AC)\n",
    "\n",
    "## What is TavilyCrawl?\n",
    "\n",
    "**TavilyCrawl** is the first intelligent web crawler that uses AI to determine which paths to explore during crawling. It combines AI-powered decision making with parallel processing capabilities.\n",
    "\n",
    "### Key Features:\n",
    "\n",
    "- **AI-Powered Path Selection**: Uses AI to determine which paths to explore\n",
    "- **Parallel Processing**: Explores hundreds of paths simultaneously  \n",
    "- **Advanced Extraction**: Extracts content from dynamically rendered pages\n",
    "- **Instruction-Driven**: Follows natural language instructions to guide exploration\n",
    "- **Targeted Content**: Returns content tailored for LLM integration and RAG systems\n",
    "\n",
    "In this tutorial, we'll demonstrate TavilyCrawl by comparing different instruction approaches on the **LangChain documentation**:\n",
    "1. 🔍 **Regular crawl without instructions** - baseline behavior\n",
    "2. ✅ **Regular crawl with good instructions** - targeted results\n",
    "\n",
    "---"
   ]
  },
  {
   "cell_type": "markdown",
   "metadata": {
    "vscode": {
     "languageId": "raw"
    }
   },
   "source": [
    "## 📦 Setup & Installation\n",
    "\n",
    "First, let's install the required packages and set up our environment.\n"
   ]
  },
  {
   "cell_type": "code",
   "execution_count": 31,
   "metadata": {},
   "outputs": [
    {
     "name": "stdout",
     "output_type": "stream",
     "text": [
      "Requirement already satisfied: langchain-tavily in /Users/edenmarco/.local/share/virtualenvs/documentation-helper-zmyxh5Q8/lib/python3.10/site-packages (0.2.7)\n",
      "Requirement already satisfied: certifi in /Users/edenmarco/.local/share/virtualenvs/documentation-helper-zmyxh5Q8/lib/python3.10/site-packages (2025.6.15)\n",
      "Requirement already satisfied: aiohttp<4.0.0,>=3.11.14 in /Users/edenmarco/.local/share/virtualenvs/documentation-helper-zmyxh5Q8/lib/python3.10/site-packages (from langchain-tavily) (3.12.13)\n",
      "Requirement already satisfied: langchain<0.4.0,>=0.3.20 in /Users/edenmarco/.local/share/virtualenvs/documentation-helper-zmyxh5Q8/lib/python3.10/site-packages (from langchain-tavily) (0.3.26)\n",
      "Requirement already satisfied: langchain-core<0.4.0,>=0.3.15 in /Users/edenmarco/.local/share/virtualenvs/documentation-helper-zmyxh5Q8/lib/python3.10/site-packages (from langchain-tavily) (0.3.68)\n",
      "Requirement already satisfied: requests<3.0.0,>=2.32.3 in /Users/edenmarco/.local/share/virtualenvs/documentation-helper-zmyxh5Q8/lib/python3.10/site-packages (from langchain-tavily) (2.32.4)\n",
      "Requirement already satisfied: aiohappyeyeballs>=2.5.0 in /Users/edenmarco/.local/share/virtualenvs/documentation-helper-zmyxh5Q8/lib/python3.10/site-packages (from aiohttp<4.0.0,>=3.11.14->langchain-tavily) (2.6.1)\n",
      "Requirement already satisfied: aiosignal>=1.1.2 in /Users/edenmarco/.local/share/virtualenvs/documentation-helper-zmyxh5Q8/lib/python3.10/site-packages (from aiohttp<4.0.0,>=3.11.14->langchain-tavily) (1.4.0)\n",
      "Requirement already satisfied: async-timeout<6.0,>=4.0 in /Users/edenmarco/.local/share/virtualenvs/documentation-helper-zmyxh5Q8/lib/python3.10/site-packages (from aiohttp<4.0.0,>=3.11.14->langchain-tavily) (4.0.3)\n",
      "Requirement already satisfied: attrs>=17.3.0 in /Users/edenmarco/.local/share/virtualenvs/documentation-helper-zmyxh5Q8/lib/python3.10/site-packages (from aiohttp<4.0.0,>=3.11.14->langchain-tavily) (25.3.0)\n",
      "Requirement already satisfied: frozenlist>=1.1.1 in /Users/edenmarco/.local/share/virtualenvs/documentation-helper-zmyxh5Q8/lib/python3.10/site-packages (from aiohttp<4.0.0,>=3.11.14->langchain-tavily) (1.7.0)\n",
      "Requirement already satisfied: multidict<7.0,>=4.5 in /Users/edenmarco/.local/share/virtualenvs/documentation-helper-zmyxh5Q8/lib/python3.10/site-packages (from aiohttp<4.0.0,>=3.11.14->langchain-tavily) (6.6.3)\n",
      "Requirement already satisfied: propcache>=0.2.0 in /Users/edenmarco/.local/share/virtualenvs/documentation-helper-zmyxh5Q8/lib/python3.10/site-packages (from aiohttp<4.0.0,>=3.11.14->langchain-tavily) (0.3.2)\n",
      "Requirement already satisfied: yarl<2.0,>=1.17.0 in /Users/edenmarco/.local/share/virtualenvs/documentation-helper-zmyxh5Q8/lib/python3.10/site-packages (from aiohttp<4.0.0,>=3.11.14->langchain-tavily) (1.20.1)\n",
      "Requirement already satisfied: langchain-text-splitters<1.0.0,>=0.3.8 in /Users/edenmarco/.local/share/virtualenvs/documentation-helper-zmyxh5Q8/lib/python3.10/site-packages (from langchain<0.4.0,>=0.3.20->langchain-tavily) (0.3.8)\n",
      "Requirement already satisfied: langsmith>=0.1.17 in /Users/edenmarco/.local/share/virtualenvs/documentation-helper-zmyxh5Q8/lib/python3.10/site-packages (from langchain<0.4.0,>=0.3.20->langchain-tavily) (0.4.4)\n",
      "Requirement already satisfied: pydantic<3.0.0,>=2.7.4 in /Users/edenmarco/.local/share/virtualenvs/documentation-helper-zmyxh5Q8/lib/python3.10/site-packages (from langchain<0.4.0,>=0.3.20->langchain-tavily) (2.11.7)\n",
      "Requirement already satisfied: SQLAlchemy<3,>=1.4 in /Users/edenmarco/.local/share/virtualenvs/documentation-helper-zmyxh5Q8/lib/python3.10/site-packages (from langchain<0.4.0,>=0.3.20->langchain-tavily) (2.0.41)\n",
      "Requirement already satisfied: PyYAML>=5.3 in /Users/edenmarco/.local/share/virtualenvs/documentation-helper-zmyxh5Q8/lib/python3.10/site-packages (from langchain<0.4.0,>=0.3.20->langchain-tavily) (6.0.2)\n",
      "Requirement already satisfied: tenacity!=8.4.0,<10.0.0,>=8.1.0 in /Users/edenmarco/.local/share/virtualenvs/documentation-helper-zmyxh5Q8/lib/python3.10/site-packages (from langchain-core<0.4.0,>=0.3.15->langchain-tavily) (9.1.2)\n",
      "Requirement already satisfied: jsonpatch<2.0,>=1.33 in /Users/edenmarco/.local/share/virtualenvs/documentation-helper-zmyxh5Q8/lib/python3.10/site-packages (from langchain-core<0.4.0,>=0.3.15->langchain-tavily) (1.33)\n",
      "Requirement already satisfied: packaging<25,>=23.2 in /Users/edenmarco/.local/share/virtualenvs/documentation-helper-zmyxh5Q8/lib/python3.10/site-packages (from langchain-core<0.4.0,>=0.3.15->langchain-tavily) (24.2)\n",
      "Requirement already satisfied: typing-extensions>=4.7 in /Users/edenmarco/.local/share/virtualenvs/documentation-helper-zmyxh5Q8/lib/python3.10/site-packages (from langchain-core<0.4.0,>=0.3.15->langchain-tavily) (4.14.1)\n",
      "Requirement already satisfied: charset_normalizer<4,>=2 in /Users/edenmarco/.local/share/virtualenvs/documentation-helper-zmyxh5Q8/lib/python3.10/site-packages (from requests<3.0.0,>=2.32.3->langchain-tavily) (3.4.2)\n",
      "Requirement already satisfied: idna<4,>=2.5 in /Users/edenmarco/.local/share/virtualenvs/documentation-helper-zmyxh5Q8/lib/python3.10/site-packages (from requests<3.0.0,>=2.32.3->langchain-tavily) (3.10)\n",
      "Requirement already satisfied: urllib3<3,>=1.21.1 in /Users/edenmarco/.local/share/virtualenvs/documentation-helper-zmyxh5Q8/lib/python3.10/site-packages (from requests<3.0.0,>=2.32.3->langchain-tavily) (2.5.0)\n",
      "Requirement already satisfied: jsonpointer>=1.9 in /Users/edenmarco/.local/share/virtualenvs/documentation-helper-zmyxh5Q8/lib/python3.10/site-packages (from jsonpatch<2.0,>=1.33->langchain-core<0.4.0,>=0.3.15->langchain-tavily) (3.0.0)\n",
      "Requirement already satisfied: httpx<1,>=0.23.0 in /Users/edenmarco/.local/share/virtualenvs/documentation-helper-zmyxh5Q8/lib/python3.10/site-packages (from langsmith>=0.1.17->langchain<0.4.0,>=0.3.20->langchain-tavily) (0.28.1)\n",
      "Requirement already satisfied: orjson<4.0.0,>=3.9.14 in /Users/edenmarco/.local/share/virtualenvs/documentation-helper-zmyxh5Q8/lib/python3.10/site-packages (from langsmith>=0.1.17->langchain<0.4.0,>=0.3.20->langchain-tavily) (3.10.18)\n",
      "Requirement already satisfied: requests-toolbelt<2.0.0,>=1.0.0 in /Users/edenmarco/.local/share/virtualenvs/documentation-helper-zmyxh5Q8/lib/python3.10/site-packages (from langsmith>=0.1.17->langchain<0.4.0,>=0.3.20->langchain-tavily) (1.0.0)\n",
      "Requirement already satisfied: zstandard<0.24.0,>=0.23.0 in /Users/edenmarco/.local/share/virtualenvs/documentation-helper-zmyxh5Q8/lib/python3.10/site-packages (from langsmith>=0.1.17->langchain<0.4.0,>=0.3.20->langchain-tavily) (0.23.0)\n",
      "Requirement already satisfied: annotated-types>=0.6.0 in /Users/edenmarco/.local/share/virtualenvs/documentation-helper-zmyxh5Q8/lib/python3.10/site-packages (from pydantic<3.0.0,>=2.7.4->langchain<0.4.0,>=0.3.20->langchain-tavily) (0.7.0)\n",
      "Requirement already satisfied: pydantic-core==2.33.2 in /Users/edenmarco/.local/share/virtualenvs/documentation-helper-zmyxh5Q8/lib/python3.10/site-packages (from pydantic<3.0.0,>=2.7.4->langchain<0.4.0,>=0.3.20->langchain-tavily) (2.33.2)\n",
      "Requirement already satisfied: typing-inspection>=0.4.0 in /Users/edenmarco/.local/share/virtualenvs/documentation-helper-zmyxh5Q8/lib/python3.10/site-packages (from pydantic<3.0.0,>=2.7.4->langchain<0.4.0,>=0.3.20->langchain-tavily) (0.4.1)\n",
      "Requirement already satisfied: anyio in /Users/edenmarco/.local/share/virtualenvs/documentation-helper-zmyxh5Q8/lib/python3.10/site-packages (from httpx<1,>=0.23.0->langsmith>=0.1.17->langchain<0.4.0,>=0.3.20->langchain-tavily) (4.9.0)\n",
      "Requirement already satisfied: httpcore==1.* in /Users/edenmarco/.local/share/virtualenvs/documentation-helper-zmyxh5Q8/lib/python3.10/site-packages (from httpx<1,>=0.23.0->langsmith>=0.1.17->langchain<0.4.0,>=0.3.20->langchain-tavily) (1.0.9)\n",
      "Requirement already satisfied: h11>=0.16 in /Users/edenmarco/.local/share/virtualenvs/documentation-helper-zmyxh5Q8/lib/python3.10/site-packages (from httpcore==1.*->httpx<1,>=0.23.0->langsmith>=0.1.17->langchain<0.4.0,>=0.3.20->langchain-tavily) (0.16.0)\n",
      "Requirement already satisfied: exceptiongroup>=1.0.2 in /Users/edenmarco/.local/share/virtualenvs/documentation-helper-zmyxh5Q8/lib/python3.10/site-packages (from anyio->httpx<1,>=0.23.0->langsmith>=0.1.17->langchain<0.4.0,>=0.3.20->langchain-tavily) (1.3.0)\n",
      "Requirement already satisfied: sniffio>=1.1 in /Users/edenmarco/.local/share/virtualenvs/documentation-helper-zmyxh5Q8/lib/python3.10/site-packages (from anyio->httpx<1,>=0.23.0->langsmith>=0.1.17->langchain<0.4.0,>=0.3.20->langchain-tavily) (1.3.1)\n",
      "\n",
      "\u001b[1m[\u001b[0m\u001b[34;49mnotice\u001b[0m\u001b[1;39;49m]\u001b[0m\u001b[39;49m A new release of pip is available: \u001b[0m\u001b[31;49m23.2.1\u001b[0m\u001b[39;49m -> \u001b[0m\u001b[32;49m25.1.1\u001b[0m\n",
      "\u001b[1m[\u001b[0m\u001b[34;49mnotice\u001b[0m\u001b[1;39;49m]\u001b[0m\u001b[39;49m To update, run: \u001b[0m\u001b[32;49mpip install --upgrade pip\u001b[0m\n",
      "Note: you may need to restart the kernel to use updated packages.\n",
      "Requirement already satisfied: rich in /Users/edenmarco/.local/share/virtualenvs/documentation-helper-zmyxh5Q8/lib/python3.10/site-packages (14.0.0)\n",
      "Requirement already satisfied: pandas in /Users/edenmarco/.local/share/virtualenvs/documentation-helper-zmyxh5Q8/lib/python3.10/site-packages (2.3.1)\n",
      "\u001b[31mERROR: Could not find a version that satisfies the requirement json (from versions: none)\u001b[0m\u001b[31m\n",
      "\u001b[0m\u001b[31mERROR: No matching distribution found for json\u001b[0m\u001b[31m\n",
      "\u001b[0m\n",
      "\u001b[1m[\u001b[0m\u001b[34;49mnotice\u001b[0m\u001b[1;39;49m]\u001b[0m\u001b[39;49m A new release of pip is available: \u001b[0m\u001b[31;49m23.2.1\u001b[0m\u001b[39;49m -> \u001b[0m\u001b[32;49m25.1.1\u001b[0m\n",
      "\u001b[1m[\u001b[0m\u001b[34;49mnotice\u001b[0m\u001b[1;39;49m]\u001b[0m\u001b[39;49m To update, run: \u001b[0m\u001b[32;49mpip install --upgrade pip\u001b[0m\n",
      "Note: you may need to restart the kernel to use updated packages.\n"
     ]
    }
   ],
   "source": [
    "# Install required packages\n",
    "%pip install langchain-tavily certifi\n",
    "\n",
    "# For pretty printing and visualization\n",
    "%pip install rich pandas json"
   ]
  },
  {
   "cell_type": "code",
   "execution_count": 32,
   "metadata": {},
   "outputs": [
    {
     "name": "stdout",
     "output_type": "stream",
     "text": [
      "✅ All imports successful!\n"
     ]
    }
   ],
   "source": [
    "import os\n",
    "import ssl\n",
    "import json\n",
    "from typing import Any, Dict, List\n",
    "\n",
    "import certifi\n",
    "from langchain_tavily import TavilyCrawl\n",
    "from rich.console import Console\n",
    "from rich.panel import Panel\n",
    "from rich.table import Table\n",
    "from rich.json import JSON\n",
    "\n",
    "# Configure SSL context\n",
    "ssl_context = ssl.create_default_context(cafile=certifi.where())\n",
    "os.environ[\"SSL_CERT_FILE\"] = certifi.where()\n",
    "os.environ[\"REQUESTS_CA_BUNDLE\"] = certifi.where()\n",
    "\n",
    "# Initialize rich console for pretty printing\n",
    "console = Console()\n",
    "\n",
    "print(\"✅ All imports successful!\")"
   ]
  },
  {
   "cell_type": "markdown",
   "metadata": {
    "vscode": {
     "languageId": "raw"
    }
   },
   "source": [
    "## 🔑 API Key Setup\n",
    "\n",
    "You'll need a Tavily API key to use TavilyCrawl. Get yours at [tavily.com](https://app.tavily.com/home).\n",
    "\n",
    "Set environment variable `TAVILY_API_KEY`\n"
   ]
  },
  {
   "cell_type": "code",
   "execution_count": 33,
   "metadata": {},
   "outputs": [
    {
     "name": "stdout",
     "output_type": "stream",
     "text": [
      "✅ API key set successfully!\n"
     ]
    }
   ],
   "source": [
    "# Set your Tavily API key here\n",
    "import getpass\n",
    "\n",
    "# For Google Colab, you can use getpass for secure input\n",
    "if 'TAVILY_API_KEY' not in os.environ:\n",
    "    os.environ['TAVILY_API_KEY'] = getpass.getpass('Enter your Tavily API key: ')\n",
    "\n",
    "# Alternative: Set directly (uncomment and add your key)\n",
    "# os.environ[\"TAVILY_API_KEY\"] = \"your_tavily_api_key_here\"\n",
    "\n",
    "print(\"✅ API key set successfully!\")"
   ]
  },
  {
   "cell_type": "markdown",
   "metadata": {
    "vscode": {
     "languageId": "raw"
    }
   },
   "source": [
    "## 🚀 Initialize TavilyCrawl\n",
    "\n",
    "Let's initialize TavilyCrawl and set up our target URL for demonstration."
   ]
  },
  {
   "cell_type": "code",
   "execution_count": 34,
   "metadata": {},
   "outputs": [
    {
     "data": {
      "text/html": [
       "<pre style=\"white-space:pre;overflow-x:auto;line-height:normal;font-family:Menlo,'DejaVu Sans Mono',consolas,'Courier New',monospace\"><span style=\"color: #0000ff; text-decoration-color: #0000ff\">╭───────────────────── Demo Setup ─────────────────────╮</span>\n",
       "<span style=\"color: #0000ff; text-decoration-color: #0000ff\">│</span> 🎯 **Target Website**: https://python.langchain.com/ <span style=\"color: #0000ff; text-decoration-color: #0000ff\">│</span>\n",
       "<span style=\"color: #0000ff; text-decoration-color: #0000ff\">│</span> 🤖 **Crawler**: TavilyCrawl                          <span style=\"color: #0000ff; text-decoration-color: #0000ff\">│</span>\n",
       "<span style=\"color: #0000ff; text-decoration-color: #0000ff\">╰──────────────────────────────────────────────────────╯</span>\n",
       "</pre>\n"
      ],
      "text/plain": [
       "\u001b[94m╭─\u001b[0m\u001b[94m────────────────────\u001b[0m\u001b[94m Demo Setup \u001b[0m\u001b[94m────────────────────\u001b[0m\u001b[94m─╮\u001b[0m\n",
       "\u001b[94m│\u001b[0m 🎯 **Target Website**: https://python.langchain.com/ \u001b[94m│\u001b[0m\n",
       "\u001b[94m│\u001b[0m 🤖 **Crawler**: TavilyCrawl                          \u001b[94m│\u001b[0m\n",
       "\u001b[94m╰──────────────────────────────────────────────────────╯\u001b[0m\n"
      ]
     },
     "metadata": {},
     "output_type": "display_data"
    },
    {
     "name": "stdout",
     "output_type": "stream",
     "text": [
      "TavilyCrawl initialized successfully\n"
     ]
    }
   ],
   "source": [
    "# Initialize TavilyCrawl\n",
    "tavily_crawl = TavilyCrawl()\n",
    "\n",
    "# Target URL: LangChain Documentation\n",
    "target_url = \"https://python.langchain.com/\"\n",
    "\n",
    "console.print(Panel.fit(\n",
    "    f\"🎯 **Target Website**: {target_url}\\n🤖 **Crawler**: TavilyCrawl\",\n",
    "    title=\"Demo Setup\",\n",
    "    border_style=\"bright_blue\"\n",
    "))\n",
    "\n",
    "print(\"TavilyCrawl initialized successfully\")"
   ]
  },
  {
   "cell_type": "markdown",
   "metadata": {
    "vscode": {
     "languageId": "raw"
    }
   },
   "source": [
    "## 🔍 Demo 1: Regular Crawl Without Instructions\n",
    "\n",
    "First, let's see what happens when we use TavilyCrawl without any specific instructions. This will show us the baseline behavior on the LangChain documentation."
   ]
  },
  {
   "cell_type": "code",
   "execution_count": null,
   "metadata": {},
   "outputs": [],
   "source": [
    "# Demo 1: Crawl without instructions\n",
    "console.print(Panel.fit(\n",
    "    f\"🎯 **Target**: {target_url}\\n📋 **Instructions**: None (baseline crawl)\\n⚙️ **Max Depth**: 1\\n🎨 **Extract Depth**: advanced\",\n",
    "    title=\"Demo 1: Regular Crawl Without Instructions\",\n",
    "    border_style=\"blue\"\n",
    "))\n",
    "\n",
    "console.print(\"Running TavilyCrawl without instructions...\", style=\"blue\")\n",
    "\n",
    "# Basic crawl without instructions\n",
    "basic_result = tavily_crawl.invoke({\n",
    "    \"url\": target_url,\n",
    "    \"max_depth\": 1,\n",
    "    \"extract_depth\": \"advanced\"\n",
    "})\n",
    "\n",
    "# Show raw output immediately\n",
    "console.print(basic_result)\n",
    "\n",
    "# Extract results for analysis\n",
    "basic_results = basic_result.get(\"results\", [])\n",
    "\n"
   ]
  },
  {
   "cell_type": "markdown",
   "metadata": {},
   "source": [
    "# Now display the formatted results nicely\n"
   ]
  },
  {
   "cell_type": "code",
   "execution_count": null,
   "metadata": {},
   "outputs": [
    {
     "data": {
      "text/html": [
       "<pre style=\"white-space:pre;overflow-x:auto;line-height:normal;font-family:Menlo,'DejaVu Sans Mono',consolas,'Courier New',monospace\">\n",
       "<span style=\"color: #008080; text-decoration-color: #008080\">📊 **Results Without Instructions**: </span><span style=\"color: #008080; text-decoration-color: #008080; font-weight: bold\">18</span><span style=\"color: #008080; text-decoration-color: #008080\"> pages</span>\n",
       "</pre>\n"
      ],
      "text/plain": [
       "\n",
       "\u001b[36m📊 **Results Without Instructions**: \u001b[0m\u001b[1;36m18\u001b[0m\u001b[36m pages\u001b[0m\n"
      ]
     },
     "metadata": {},
     "output_type": "display_data"
    },
    {
     "data": {
      "text/html": [
       "<pre style=\"white-space:pre;overflow-x:auto;line-height:normal;font-family:Menlo,'DejaVu Sans Mono',consolas,'Courier New',monospace\">   📄 Mix of all content types from LangChain docs\n",
       "</pre>\n"
      ],
      "text/plain": [
       "   📄 Mix of all content types from LangChain docs\n"
      ]
     },
     "metadata": {},
     "output_type": "display_data"
    },
    {
     "data": {
      "text/html": [
       "<pre style=\"white-space:pre;overflow-x:auto;line-height:normal;font-family:Menlo,'DejaVu Sans Mono',consolas,'Courier New',monospace\">   🔍 No filtering - everything from the crawled sections\n",
       "</pre>\n"
      ],
      "text/plain": [
       "   🔍 No filtering - everything from the crawled sections\n"
      ]
     },
     "metadata": {},
     "output_type": "display_data"
    },
    {
     "data": {
      "text/html": [
       "<pre style=\"white-space:pre;overflow-x:auto;line-height:normal;font-family:Menlo,'DejaVu Sans Mono',consolas,'Courier New',monospace\">   ⚠️  Requires manual work to find specific content\n",
       "</pre>\n"
      ],
      "text/plain": [
       "   ⚠️  Requires manual work to find specific content\n"
      ]
     },
     "metadata": {},
     "output_type": "display_data"
    },
    {
     "data": {
      "text/html": [
       "<pre style=\"white-space:pre;overflow-x:auto;line-height:normal;font-family:Menlo,'DejaVu Sans Mono',consolas,'Courier New',monospace\">\n",
       "<span style=\"color: #008080; text-decoration-color: #008080\">📋 **Sample Results from Basic Crawl </span><span style=\"color: #008080; text-decoration-color: #008080; font-weight: bold\">(</span><span style=\"color: #008080; text-decoration-color: #008080\">No Filtering</span><span style=\"color: #008080; text-decoration-color: #008080; font-weight: bold\">)</span><span style=\"color: #008080; text-decoration-color: #008080\">:**</span>\n",
       "\n",
       "</pre>\n"
      ],
      "text/plain": [
       "\n",
       "\u001b[36m📋 **Sample Results from Basic Crawl \u001b[0m\u001b[1;36m(\u001b[0m\u001b[36mNo Filtering\u001b[0m\u001b[1;36m)\u001b[0m\u001b[36m:**\u001b[0m\n",
       "\n"
      ]
     },
     "metadata": {},
     "output_type": "display_data"
    },
    {
     "data": {
      "text/html": [
       "<pre style=\"white-space:pre;overflow-x:auto;line-height:normal;font-family:Menlo,'DejaVu Sans Mono',consolas,'Courier New',monospace\"><span style=\"color: #000080; text-decoration-color: #000080\">╭───────────────────────────── 📄 1. https://python.langchain.com/docs/introduction ──────────────────────────────╮</span>\n",
       "<span style=\"color: #000080; text-decoration-color: #000080\">│</span> 🔗 **URL**: https://python.langchain.com/docs/introduction                                                      <span style=\"color: #000080; text-decoration-color: #000080\">│</span>\n",
       "<span style=\"color: #000080; text-decoration-color: #000080\">│</span>                                                                                                                 <span style=\"color: #000080; text-decoration-color: #000080\">│</span>\n",
       "<span style=\"color: #000080; text-decoration-color: #000080\">│</span> 📖 **Content Preview**:                                                                                         <span style=\"color: #000080; text-decoration-color: #000080\">│</span>\n",
       "<span style=\"color: #000080; text-decoration-color: #000080\">│</span> Published Time: Thu, 10 Jul 2025 20:07:53 GMT                                                                   <span style=\"color: #000080; text-decoration-color: #000080\">│</span>\n",
       "<span style=\"color: #000080; text-decoration-color: #000080\">│</span>                                                                                                                 <span style=\"color: #000080; text-decoration-color: #000080\">│</span>\n",
       "<span style=\"color: #000080; text-decoration-color: #000080\">│</span> Introduction | 🦜️🔗 LangChain                                                                                   <span style=\"color: #000080; text-decoration-color: #000080\">│</span>\n",
       "<span style=\"color: #000080; text-decoration-color: #000080\">│</span>                                                                                                                 <span style=\"color: #000080; text-decoration-color: #000080\">│</span>\n",
       "<span style=\"color: #000080; text-decoration-color: #000080\">│</span> ===============                                                                                                 <span style=\"color: #000080; text-decoration-color: #000080\">│</span>\n",
       "<span style=\"color: #000080; text-decoration-color: #000080\">│</span>                                                                                                                 <span style=\"color: #000080; text-decoration-color: #000080\">│</span>\n",
       "<span style=\"color: #000080; text-decoration-color: #000080\">│</span> [Skip to main content](https://python.langchain.com/docs...                                                     <span style=\"color: #000080; text-decoration-color: #000080\">│</span>\n",
       "<span style=\"color: #000080; text-decoration-color: #000080\">╰─────────────────────────────────────────────────────────────────────────────────────────────────────────────────╯</span>\n",
       "</pre>\n"
      ],
      "text/plain": [
       "\u001b[34m╭─\u001b[0m\u001b[34m────────────────────────────\u001b[0m\u001b[34m 📄 1. https://python.langchain.com/docs/introduction \u001b[0m\u001b[34m─────────────────────────────\u001b[0m\u001b[34m─╮\u001b[0m\n",
       "\u001b[34m│\u001b[0m 🔗 **URL**: https://python.langchain.com/docs/introduction                                                      \u001b[34m│\u001b[0m\n",
       "\u001b[34m│\u001b[0m                                                                                                                 \u001b[34m│\u001b[0m\n",
       "\u001b[34m│\u001b[0m 📖 **Content Preview**:                                                                                         \u001b[34m│\u001b[0m\n",
       "\u001b[34m│\u001b[0m Published Time: Thu, 10 Jul 2025 20:07:53 GMT                                                                   \u001b[34m│\u001b[0m\n",
       "\u001b[34m│\u001b[0m                                                                                                                 \u001b[34m│\u001b[0m\n",
       "\u001b[34m│\u001b[0m Introduction | 🦜️🔗 LangChain                                                                                   \u001b[34m│\u001b[0m\n",
       "\u001b[34m│\u001b[0m                                                                                                                 \u001b[34m│\u001b[0m\n",
       "\u001b[34m│\u001b[0m ===============                                                                                                 \u001b[34m│\u001b[0m\n",
       "\u001b[34m│\u001b[0m                                                                                                                 \u001b[34m│\u001b[0m\n",
       "\u001b[34m│\u001b[0m [Skip to main content](https://python.langchain.com/docs...                                                     \u001b[34m│\u001b[0m\n",
       "\u001b[34m╰─────────────────────────────────────────────────────────────────────────────────────────────────────────────────╯\u001b[0m\n"
      ]
     },
     "metadata": {},
     "output_type": "display_data"
    },
    {
     "name": "stdout",
     "output_type": "stream",
     "text": [
      "\n"
     ]
    },
    {
     "data": {
      "text/html": [
       "<pre style=\"white-space:pre;overflow-x:auto;line-height:normal;font-family:Menlo,'DejaVu Sans Mono',consolas,'Courier New',monospace\"><span style=\"color: #000080; text-decoration-color: #000080\">╭─────────────────────────────── 📄 2. https://python.langchain.com/docs/security ────────────────────────────────╮</span>\n",
       "<span style=\"color: #000080; text-decoration-color: #000080\">│</span> 🔗 **URL**: https://python.langchain.com/docs/security                                                          <span style=\"color: #000080; text-decoration-color: #000080\">│</span>\n",
       "<span style=\"color: #000080; text-decoration-color: #000080\">│</span>                                                                                                                 <span style=\"color: #000080; text-decoration-color: #000080\">│</span>\n",
       "<span style=\"color: #000080; text-decoration-color: #000080\">│</span> 📖 **Content Preview**:                                                                                         <span style=\"color: #000080; text-decoration-color: #000080\">│</span>\n",
       "<span style=\"color: #000080; text-decoration-color: #000080\">│</span> Published Time: Fri, 11 Jul 2025 19:44:35 GMT                                                                   <span style=\"color: #000080; text-decoration-color: #000080\">│</span>\n",
       "<span style=\"color: #000080; text-decoration-color: #000080\">│</span>                                                                                                                 <span style=\"color: #000080; text-decoration-color: #000080\">│</span>\n",
       "<span style=\"color: #000080; text-decoration-color: #000080\">│</span> Security Policy | 🦜️🔗 LangChain                                                                                <span style=\"color: #000080; text-decoration-color: #000080\">│</span>\n",
       "<span style=\"color: #000080; text-decoration-color: #000080\">│</span>                                                                                                                 <span style=\"color: #000080; text-decoration-color: #000080\">│</span>\n",
       "<span style=\"color: #000080; text-decoration-color: #000080\">│</span> ===============                                                                                                 <span style=\"color: #000080; text-decoration-color: #000080\">│</span>\n",
       "<span style=\"color: #000080; text-decoration-color: #000080\">│</span>                                                                                                                 <span style=\"color: #000080; text-decoration-color: #000080\">│</span>\n",
       "<span style=\"color: #000080; text-decoration-color: #000080\">│</span> [Skip to main content](https://python.langchain.com/d...                                                        <span style=\"color: #000080; text-decoration-color: #000080\">│</span>\n",
       "<span style=\"color: #000080; text-decoration-color: #000080\">╰─────────────────────────────────────────────────────────────────────────────────────────────────────────────────╯</span>\n",
       "</pre>\n"
      ],
      "text/plain": [
       "\u001b[34m╭─\u001b[0m\u001b[34m──────────────────────────────\u001b[0m\u001b[34m 📄 2. https://python.langchain.com/docs/security \u001b[0m\u001b[34m───────────────────────────────\u001b[0m\u001b[34m─╮\u001b[0m\n",
       "\u001b[34m│\u001b[0m 🔗 **URL**: https://python.langchain.com/docs/security                                                          \u001b[34m│\u001b[0m\n",
       "\u001b[34m│\u001b[0m                                                                                                                 \u001b[34m│\u001b[0m\n",
       "\u001b[34m│\u001b[0m 📖 **Content Preview**:                                                                                         \u001b[34m│\u001b[0m\n",
       "\u001b[34m│\u001b[0m Published Time: Fri, 11 Jul 2025 19:44:35 GMT                                                                   \u001b[34m│\u001b[0m\n",
       "\u001b[34m│\u001b[0m                                                                                                                 \u001b[34m│\u001b[0m\n",
       "\u001b[34m│\u001b[0m Security Policy | 🦜️🔗 LangChain                                                                                \u001b[34m│\u001b[0m\n",
       "\u001b[34m│\u001b[0m                                                                                                                 \u001b[34m│\u001b[0m\n",
       "\u001b[34m│\u001b[0m ===============                                                                                                 \u001b[34m│\u001b[0m\n",
       "\u001b[34m│\u001b[0m                                                                                                                 \u001b[34m│\u001b[0m\n",
       "\u001b[34m│\u001b[0m [Skip to main content](https://python.langchain.com/d...                                                        \u001b[34m│\u001b[0m\n",
       "\u001b[34m╰─────────────────────────────────────────────────────────────────────────────────────────────────────────────────╯\u001b[0m\n"
      ]
     },
     "metadata": {},
     "output_type": "display_data"
    },
    {
     "name": "stdout",
     "output_type": "stream",
     "text": [
      "\n"
     ]
    },
    {
     "data": {
      "text/html": [
       "<pre style=\"white-space:pre;overflow-x:auto;line-height:normal;font-family:Menlo,'DejaVu Sans Mono',consolas,'Courier New',monospace\"><span style=\"color: #000080; text-decoration-color: #000080\">╭──────────────────────────────── 📄 3. https://python.langchain.com/docs/how_to ─────────────────────────────────╮</span>\n",
       "<span style=\"color: #000080; text-decoration-color: #000080\">│</span> 🔗 **URL**: https://python.langchain.com/docs/how_to                                                            <span style=\"color: #000080; text-decoration-color: #000080\">│</span>\n",
       "<span style=\"color: #000080; text-decoration-color: #000080\">│</span>                                                                                                                 <span style=\"color: #000080; text-decoration-color: #000080\">│</span>\n",
       "<span style=\"color: #000080; text-decoration-color: #000080\">│</span> 📖 **Content Preview**:                                                                                         <span style=\"color: #000080; text-decoration-color: #000080\">│</span>\n",
       "<span style=\"color: #000080; text-decoration-color: #000080\">│</span> Published Time: Fri, 11 Jul 2025 15:09:38 GMT                                                                   <span style=\"color: #000080; text-decoration-color: #000080\">│</span>\n",
       "<span style=\"color: #000080; text-decoration-color: #000080\">│</span>                                                                                                                 <span style=\"color: #000080; text-decoration-color: #000080\">│</span>\n",
       "<span style=\"color: #000080; text-decoration-color: #000080\">│</span> How-to guides | 🦜️🔗 LangChain                                                                                  <span style=\"color: #000080; text-decoration-color: #000080\">│</span>\n",
       "<span style=\"color: #000080; text-decoration-color: #000080\">│</span>                                                                                                                 <span style=\"color: #000080; text-decoration-color: #000080\">│</span>\n",
       "<span style=\"color: #000080; text-decoration-color: #000080\">│</span> ===============                                                                                                 <span style=\"color: #000080; text-decoration-color: #000080\">│</span>\n",
       "<span style=\"color: #000080; text-decoration-color: #000080\">│</span>                                                                                                                 <span style=\"color: #000080; text-decoration-color: #000080\">│</span>\n",
       "<span style=\"color: #000080; text-decoration-color: #000080\">│</span> [Skip to main content](https://python.langchain.com/doc...                                                      <span style=\"color: #000080; text-decoration-color: #000080\">│</span>\n",
       "<span style=\"color: #000080; text-decoration-color: #000080\">╰─────────────────────────────────────────────────────────────────────────────────────────────────────────────────╯</span>\n",
       "</pre>\n"
      ],
      "text/plain": [
       "\u001b[34m╭─\u001b[0m\u001b[34m───────────────────────────────\u001b[0m\u001b[34m 📄 3. https://python.langchain.com/docs/how_to \u001b[0m\u001b[34m────────────────────────────────\u001b[0m\u001b[34m─╮\u001b[0m\n",
       "\u001b[34m│\u001b[0m 🔗 **URL**: https://python.langchain.com/docs/how_to                                                            \u001b[34m│\u001b[0m\n",
       "\u001b[34m│\u001b[0m                                                                                                                 \u001b[34m│\u001b[0m\n",
       "\u001b[34m│\u001b[0m 📖 **Content Preview**:                                                                                         \u001b[34m│\u001b[0m\n",
       "\u001b[34m│\u001b[0m Published Time: Fri, 11 Jul 2025 15:09:38 GMT                                                                   \u001b[34m│\u001b[0m\n",
       "\u001b[34m│\u001b[0m                                                                                                                 \u001b[34m│\u001b[0m\n",
       "\u001b[34m│\u001b[0m How-to guides | 🦜️🔗 LangChain                                                                                  \u001b[34m│\u001b[0m\n",
       "\u001b[34m│\u001b[0m                                                                                                                 \u001b[34m│\u001b[0m\n",
       "\u001b[34m│\u001b[0m ===============                                                                                                 \u001b[34m│\u001b[0m\n",
       "\u001b[34m│\u001b[0m                                                                                                                 \u001b[34m│\u001b[0m\n",
       "\u001b[34m│\u001b[0m [Skip to main content](https://python.langchain.com/doc...                                                      \u001b[34m│\u001b[0m\n",
       "\u001b[34m╰─────────────────────────────────────────────────────────────────────────────────────────────────────────────────╯\u001b[0m\n"
      ]
     },
     "metadata": {},
     "output_type": "display_data"
    },
    {
     "name": "stdout",
     "output_type": "stream",
     "text": [
      "\n"
     ]
    },
    {
     "data": {
      "text/html": [
       "<pre style=\"white-space:pre;overflow-x:auto;line-height:normal;font-family:Menlo,'DejaVu Sans Mono',consolas,'Courier New',monospace\"><span style=\"color: #808000; text-decoration-color: #808000; font-style: italic\">...</span><span style=\"color: #008080; text-decoration-color: #008080; font-style: italic\"> and </span><span style=\"color: #008080; text-decoration-color: #008080; font-weight: bold\">15</span><span style=\"color: #008080; text-decoration-color: #008080; font-style: italic\"> more mixed results</span>\n",
       "</pre>\n"
      ],
      "text/plain": [
       "\u001b[3;33m...\u001b[0m\u001b[3;36m and \u001b[0m\u001b[1;36m15\u001b[0m\u001b[3;36m more mixed results\u001b[0m\n"
      ]
     },
     "metadata": {},
     "output_type": "display_data"
    },
    {
     "data": {
      "text/html": [
       "<pre style=\"white-space:pre;overflow-x:auto;line-height:normal;font-family:Menlo,'DejaVu Sans Mono',consolas,'Courier New',monospace\"><span style=\"color: #008080; text-decoration-color: #008080\">🔍 **Note**: Mixed content types - guides, integrations, concepts, etc.</span>\n",
       "</pre>\n"
      ],
      "text/plain": [
       "\u001b[36m🔍 **Note**: Mixed content types - guides, integrations, concepts, etc.\u001b[0m\n"
      ]
     },
     "metadata": {},
     "output_type": "display_data"
    }
   ],
   "source": [
    "console.print(f\"\\n📊 **Results Without Instructions**: {len(basic_results)} pages\", style=\"cyan\")\n",
    "console.print(\"   📄 Mix of all content types from LangChain docs\")\n",
    "console.print(\"   🔍 No filtering - everything from the crawled sections\")\n",
    "console.print(\"   ⚠️  Requires manual work to find specific content\")\n",
    "\n",
    "console.print(\"\\n📋 **Sample Results from Basic Crawl (No Filtering):**\\n\", style=\"cyan\")\n",
    "\n",
    "for i, result in enumerate(basic_results[:3], 1):  # Show first 3 results\n",
    "    url = result.get(\"url\", \"No URL\")\n",
    "    content = result.get(\"raw_content\", \"No content\")[:150] + \"...\"\n",
    "    \n",
    "    panel_content = f\"\"\"🔗 **URL**: {url}\n",
    "\n",
    "📖 **Content Preview**:\n",
    "{content}\"\"\"\n",
    "    \n",
    "    console.print(Panel(\n",
    "        panel_content,\n",
    "        title=f\"📄 {i}. {url}\",\n",
    "        border_style=\"blue\"\n",
    "    ))\n",
    "    print()\n",
    "\n",
    "console.print(f\"... and {len(basic_results) - 3} more mixed results\", style=\"italic cyan\")\n",
    "console.print(\"🔍 **Note**: Mixed content types - guides, integrations, concepts, etc.\", style=\"cyan\")"
   ]
  },
  {
   "cell_type": "markdown",
   "metadata": {},
   "source": [
    "## ✅ Demo 2: Regular Crawl With Good Instructions\n",
    "\n",
    "Now let's see how good instructions can dramatically improve the quality and relevance of our crawl results. We'll use specific, action-oriented instructions to target exactly what we're looking for.\n"
   ]
  },
  {
   "cell_type": "code",
   "execution_count": null,
   "metadata": {},
   "outputs": [
    {
     "data": {
      "text/html": [
       "<pre style=\"white-space:pre;overflow-x:auto;line-height:normal;font-family:Menlo,'DejaVu Sans Mono',consolas,'Courier New',monospace\"><span style=\"color: #008000; text-decoration-color: #008000\">╭────────── Demo 3: Regular Crawl With Good Instructions ───────────╮</span>\n",
       "<span style=\"color: #008000; text-decoration-color: #008000\">│</span> 🎯 **Target**: https://python.langchain.com/ (same as Demo 1 &amp; 2) <span style=\"color: #008000; text-decoration-color: #008000\">│</span>\n",
       "<span style=\"color: #008000; text-decoration-color: #008000\">│</span> 📋 **Instructions**: Find all pages about ai agents               <span style=\"color: #008000; text-decoration-color: #008000\">│</span>\n",
       "<span style=\"color: #008000; text-decoration-color: #008000\">│</span> ✅ **Type**: Good (specific, action-oriented)                     <span style=\"color: #008000; text-decoration-color: #008000\">│</span>\n",
       "<span style=\"color: #008000; text-decoration-color: #008000\">│</span> ⚙️ **Max Depth**: 2                                                <span style=\"color: #008000; text-decoration-color: #008000\">│</span>\n",
       "<span style=\"color: #008000; text-decoration-color: #008000\">│</span> 🎨 **Extract Depth**: advanced                                    <span style=\"color: #008000; text-decoration-color: #008000\">│</span>\n",
       "<span style=\"color: #008000; text-decoration-color: #008000\">╰───────────────────────────────────────────────────────────────────╯</span>\n",
       "</pre>\n"
      ],
      "text/plain": [
       "\u001b[32m╭─\u001b[0m\u001b[32m─────────\u001b[0m\u001b[32m Demo 3: Regular Crawl With Good Instructions \u001b[0m\u001b[32m──────────\u001b[0m\u001b[32m─╮\u001b[0m\n",
       "\u001b[32m│\u001b[0m 🎯 **Target**: https://python.langchain.com/ (same as Demo 1 & 2) \u001b[32m│\u001b[0m\n",
       "\u001b[32m│\u001b[0m 📋 **Instructions**: Find all pages about ai agents               \u001b[32m│\u001b[0m\n",
       "\u001b[32m│\u001b[0m ✅ **Type**: Good (specific, action-oriented)                     \u001b[32m│\u001b[0m\n",
       "\u001b[32m│\u001b[0m ⚙️ **Max Depth**: 2                                                \u001b[32m│\u001b[0m\n",
       "\u001b[32m│\u001b[0m 🎨 **Extract Depth**: advanced                                    \u001b[32m│\u001b[0m\n",
       "\u001b[32m╰───────────────────────────────────────────────────────────────────╯\u001b[0m\n"
      ]
     },
     "metadata": {},
     "output_type": "display_data"
    },
    {
     "data": {
      "text/html": [
       "<pre style=\"white-space:pre;overflow-x:auto;line-height:normal;font-family:Menlo,'DejaVu Sans Mono',consolas,'Courier New',monospace\"><span style=\"color: #008000; text-decoration-color: #008000\">Starting crawl with good instructions</span><span style=\"color: #808000; text-decoration-color: #808000\">...</span>\n",
       "</pre>\n"
      ],
      "text/plain": [
       "\u001b[32mStarting crawl with good instructions\u001b[0m\u001b[33m...\u001b[0m\n"
      ]
     },
     "metadata": {},
     "output_type": "display_data"
    },
    {
     "data": {
      "text/html": [
       "<pre style=\"white-space:pre;overflow-x:auto;line-height:normal;font-family:Menlo,'DejaVu Sans Mono',consolas,'Courier New',monospace\"><span style=\"font-style: italic\">Instructions will guide the AI to target specific content</span>\n",
       "</pre>\n"
      ],
      "text/plain": [
       "\u001b[3mInstructions will guide the AI to target specific content\u001b[0m\n"
      ]
     },
     "metadata": {},
     "output_type": "display_data"
    }
   ],
   "source": [
    "good_instructions = \"Find all pages about ai agents\"\n",
    "\n",
    "console.print(Panel.fit(\n",
    "    f\"🎯 **Target**: {target_url} (same as Demo 1)\\n📋 **Instructions**: {good_instructions}\\n✅ **Type**: Good (specific, action-oriented)\\n⚙️ **Max Depth**: 2\\n🎨 **Extract Depth**: advanced\",\n",
    "    title=\"Demo 2: Regular Crawl With Good Instructions\", \n",
    "    border_style=\"green\"\n",
    "))\n",
    "\n",
    "console.print(\"Starting crawl with good instructions...\", style=\"green\")\n",
    "console.print(\"Instructions will guide the AI to target specific content\", style=\"italic\")"
   ]
  },
  {
   "cell_type": "code",
   "execution_count": null,
   "metadata": {},
   "outputs": [],
   "source": [
    "# Execute the crawl with good instructions\n",
    "good_result = tavily_crawl.invoke({\n",
    "    \"url\": target_url,\n",
    "    \"instructions\": good_instructions,\n",
    "    \"max_depth\": 2,\n",
    "    \"extract_depth\": \"advanced\"\n",
    "})\n",
    "\n",
    "# Show raw output immediately\n",
    "console.print(\"\\n🔍 **Raw TavilyCrawl Output:**\", style=\"yellow\")\n",
    "result_json = JSON.from_data(good_result)\n",
    "console.print(result_json)\n",
    "\n",
    "console.print(\"\\nCrawl with good instructions completed\", style=\"green\")\n",
    "\n",
    "# Show the results of instruction-based filtering\n",
    "good_results = good_result.get(\"results\", [])"
   ]
  },
  {
   "cell_type": "code",
   "execution_count": null,
   "metadata": {},
   "outputs": [
    {
     "data": {
      "text/html": [
       "<pre style=\"white-space:pre;overflow-x:auto;line-height:normal;font-family:Menlo,'DejaVu Sans Mono',consolas,'Courier New',monospace\">\n",
       "<span style=\"color: #008000; text-decoration-color: #008000\">🎯 **LangChain Agent Documentation Found:**</span>\n",
       "\n",
       "</pre>\n"
      ],
      "text/plain": [
       "\n",
       "\u001b[32m🎯 **LangChain Agent Documentation Found:**\u001b[0m\n",
       "\n"
      ]
     },
     "metadata": {},
     "output_type": "display_data"
    },
    {
     "data": {
      "text/html": [
       "<pre style=\"white-space:pre;overflow-x:auto;line-height:normal;font-family:Menlo,'DejaVu Sans Mono',consolas,'Courier New',monospace\"><span style=\"color: #008000; text-decoration-color: #008000\">╭───────────────────────── 📑 1. https://python.langchain.com/docs/how_to/migrate_agent ──────────────────────────╮</span>\n",
       "<span style=\"color: #008000; text-decoration-color: #008000\">│</span> 🔗 **URL**: https://python.langchain.com/docs/how_to/migrate_agent                                              <span style=\"color: #008000; text-decoration-color: #008000\">│</span>\n",
       "<span style=\"color: #008000; text-decoration-color: #008000\">│</span>                                                                                                                 <span style=\"color: #008000; text-decoration-color: #008000\">│</span>\n",
       "<span style=\"color: #008000; text-decoration-color: #008000\">│</span> 📖 **Content Preview**:                                                                                         <span style=\"color: #008000; text-decoration-color: #008000\">│</span>\n",
       "<span style=\"color: #008000; text-decoration-color: #008000\">│</span> Published Time: Fri, 11 Jul 2025 15:17:55 GMT                                                                   <span style=\"color: #008000; text-decoration-color: #008000\">│</span>\n",
       "<span style=\"color: #008000; text-decoration-color: #008000\">│</span>                                                                                                                 <span style=\"color: #008000; text-decoration-color: #008000\">│</span>\n",
       "<span style=\"color: #008000; text-decoration-color: #008000\">│</span> How to migrate from legacy LangChain agents to LangGraph | 🦜️🔗 LangChain                                       <span style=\"color: #008000; text-decoration-color: #008000\">│</span>\n",
       "<span style=\"color: #008000; text-decoration-color: #008000\">│</span>                                                                                                                 <span style=\"color: #008000; text-decoration-color: #008000\">│</span>\n",
       "<span style=\"color: #008000; text-decoration-color: #008000\">│</span> ===============                                                                                                 <span style=\"color: #008000; text-decoration-color: #008000\">│</span>\n",
       "<span style=\"color: #008000; text-decoration-color: #008000\">│</span>                                                                                                                 <span style=\"color: #008000; text-decoration-color: #008000\">│</span>\n",
       "<span style=\"color: #008000; text-decoration-color: #008000\">│</span> [Skip to main content](https://python.langchain.com/docs/how_t...                                               <span style=\"color: #008000; text-decoration-color: #008000\">│</span>\n",
       "<span style=\"color: #008000; text-decoration-color: #008000\">╰─────────────────────────────────────────────────────────────────────────────────────────────────────────────────╯</span>\n",
       "</pre>\n"
      ],
      "text/plain": [
       "\u001b[32m╭─\u001b[0m\u001b[32m────────────────────────\u001b[0m\u001b[32m 📑 1. https://python.langchain.com/docs/how_to/migrate_agent \u001b[0m\u001b[32m─────────────────────────\u001b[0m\u001b[32m─╮\u001b[0m\n",
       "\u001b[32m│\u001b[0m 🔗 **URL**: https://python.langchain.com/docs/how_to/migrate_agent                                              \u001b[32m│\u001b[0m\n",
       "\u001b[32m│\u001b[0m                                                                                                                 \u001b[32m│\u001b[0m\n",
       "\u001b[32m│\u001b[0m 📖 **Content Preview**:                                                                                         \u001b[32m│\u001b[0m\n",
       "\u001b[32m│\u001b[0m Published Time: Fri, 11 Jul 2025 15:17:55 GMT                                                                   \u001b[32m│\u001b[0m\n",
       "\u001b[32m│\u001b[0m                                                                                                                 \u001b[32m│\u001b[0m\n",
       "\u001b[32m│\u001b[0m How to migrate from legacy LangChain agents to LangGraph | 🦜️🔗 LangChain                                       \u001b[32m│\u001b[0m\n",
       "\u001b[32m│\u001b[0m                                                                                                                 \u001b[32m│\u001b[0m\n",
       "\u001b[32m│\u001b[0m ===============                                                                                                 \u001b[32m│\u001b[0m\n",
       "\u001b[32m│\u001b[0m                                                                                                                 \u001b[32m│\u001b[0m\n",
       "\u001b[32m│\u001b[0m [Skip to main content](https://python.langchain.com/docs/how_t...                                               \u001b[32m│\u001b[0m\n",
       "\u001b[32m╰─────────────────────────────────────────────────────────────────────────────────────────────────────────────────╯\u001b[0m\n"
      ]
     },
     "metadata": {},
     "output_type": "display_data"
    },
    {
     "name": "stdout",
     "output_type": "stream",
     "text": [
      "\n"
     ]
    },
    {
     "data": {
      "text/html": [
       "<pre style=\"white-space:pre;overflow-x:auto;line-height:normal;font-family:Menlo,'DejaVu Sans Mono',consolas,'Courier New',monospace\"><span style=\"color: #008000; text-decoration-color: #008000\">📝 **Note**: All results are specifically about agents in LangChain</span>\n",
       "</pre>\n"
      ],
      "text/plain": [
       "\u001b[32m📝 **Note**: All results are specifically about agents in LangChain\u001b[0m\n"
      ]
     },
     "metadata": {},
     "output_type": "display_data"
    }
   ],
   "source": [
    "# Display the targeted agent documentation found\n",
    "console.print(\"\\n🎯 **LangChain Agent Documentation Found:**\\n\", style=\"green\")\n",
    "\n",
    "for i, result in enumerate(good_results, 1):\n",
    "    url = result.get(\"url\", \"No URL\")\n",
    "    content = result.get(\"raw_content\", \"No content\")[:200] + \"...\"\n",
    "    \n",
    "    panel_content = f\"\"\"🔗 **URL**: {url}\n",
    "\n",
    "📖 **Content Preview**:\n",
    "{content}\"\"\"\n",
    "    \n",
    "    console.print(Panel(\n",
    "        panel_content,\n",
    "        title=f\"📑 {i}. {url}\",\n",
    "        border_style=\"green\"\n",
    "    ))\n",
    "    print()\n",
    "\n",
    "console.print(\"📝 **Note**: All results are specifically about agents in LangChain\", style=\"green\")"
   ]
  },
  {
   "cell_type": "markdown",
   "metadata": {},
   "source": [
    "## 📊 Comparison of Both Approaches\n",
    "\n",
    "Now let's compare both approaches side by side to understand the impact of instruction quality."
   ]
  },
  {
   "cell_type": "code",
   "execution_count": null,
   "metadata": {},
   "outputs": [
    {
     "data": {
      "text/html": [
       "<pre style=\"white-space:pre;overflow-x:auto;line-height:normal;font-family:Menlo,'DejaVu Sans Mono',consolas,'Courier New',monospace\"><span style=\"font-style: italic\">                                  📊 TavilyCrawl: Instruction Quality Comparison                                   </span>\n",
       "┏━━━━━━━━━━━━━━━━━━━━━━┳━━━━━━━━━━━━━━━━━━━━━━━━━┳━━━━━━━━━━━━━┳━━━━━━━━━━━━━━━━━━━━━━━┳━━━━━━━━━━━━━━━━━━━━━━━━━━┓\n",
       "┃<span style=\"font-weight: bold\"> Approach             </span>┃<span style=\"font-weight: bold\"> Instructions            </span>┃<span style=\"font-weight: bold\"> Pages Found </span>┃<span style=\"font-weight: bold\"> Content Quality       </span>┃<span style=\"font-weight: bold\"> Usefulness               </span>┃\n",
       "┡━━━━━━━━━━━━━━━━━━━━━━╇━━━━━━━━━━━━━━━━━━━━━━━━━╇━━━━━━━━━━━━━╇━━━━━━━━━━━━━━━━━━━━━━━╇━━━━━━━━━━━━━━━━━━━━━━━━━━┩\n",
       "│<span style=\"color: #008080; text-decoration-color: #008080\"> 🔍 No Instructions   </span>│<span style=\"color: #808000; text-decoration-color: #808000\"> None (baseline)         </span>│<span style=\"color: #000080; text-decoration-color: #000080\"> 18          </span>│<span style=\"color: #008000; text-decoration-color: #008000\"> Mixed (all types)     </span>│<span style=\"color: #800000; text-decoration-color: #800000\"> Low (requires filtering) </span>│\n",
       "│<span style=\"color: #008080; text-decoration-color: #008080\"> ❌ Poor Instructions </span>│<span style=\"color: #808000; text-decoration-color: #808000\"> What is LangChain and   </span>│<span style=\"color: #000080; text-decoration-color: #000080\"> 8           </span>│<span style=\"color: #008000; text-decoration-color: #008000\"> Potentially unfocused </span>│<span style=\"color: #800000; text-decoration-color: #800000\"> Medium (may need         </span>│\n",
       "│<span style=\"color: #008080; text-decoration-color: #008080\">                      </span>│<span style=\"color: #808000; text-decoration-color: #808000\"> how does it work?       </span>│<span style=\"color: #000080; text-decoration-color: #000080\">             </span>│<span style=\"color: #008000; text-decoration-color: #008000\">                       </span>│<span style=\"color: #800000; text-decoration-color: #800000\"> filtering)               </span>│\n",
       "│<span style=\"color: #008080; text-decoration-color: #008080\"> ✅ Good Instructions </span>│<span style=\"color: #808000; text-decoration-color: #808000\"> Find all pages about ai </span>│<span style=\"color: #000080; text-decoration-color: #000080\"> 1           </span>│<span style=\"color: #008000; text-decoration-color: #008000\"> Highly targeted       </span>│<span style=\"color: #800000; text-decoration-color: #800000\"> High (ready to use)      </span>│\n",
       "│<span style=\"color: #008080; text-decoration-color: #008080\">                      </span>│<span style=\"color: #808000; text-decoration-color: #808000\"> agents                  </span>│<span style=\"color: #000080; text-decoration-color: #000080\">             </span>│<span style=\"color: #008000; text-decoration-color: #008000\">                       </span>│<span style=\"color: #800000; text-decoration-color: #800000\">                          </span>│\n",
       "└──────────────────────┴─────────────────────────┴─────────────┴───────────────────────┴──────────────────────────┘\n",
       "</pre>\n"
      ],
      "text/plain": [
       "\u001b[3m                                  📊 TavilyCrawl: Instruction Quality Comparison                                   \u001b[0m\n",
       "┏━━━━━━━━━━━━━━━━━━━━━━┳━━━━━━━━━━━━━━━━━━━━━━━━━┳━━━━━━━━━━━━━┳━━━━━━━━━━━━━━━━━━━━━━━┳━━━━━━━━━━━━━━━━━━━━━━━━━━┓\n",
       "┃\u001b[1m \u001b[0m\u001b[1mApproach            \u001b[0m\u001b[1m \u001b[0m┃\u001b[1m \u001b[0m\u001b[1mInstructions           \u001b[0m\u001b[1m \u001b[0m┃\u001b[1m \u001b[0m\u001b[1mPages Found\u001b[0m\u001b[1m \u001b[0m┃\u001b[1m \u001b[0m\u001b[1mContent Quality      \u001b[0m\u001b[1m \u001b[0m┃\u001b[1m \u001b[0m\u001b[1mUsefulness              \u001b[0m\u001b[1m \u001b[0m┃\n",
       "┡━━━━━━━━━━━━━━━━━━━━━━╇━━━━━━━━━━━━━━━━━━━━━━━━━╇━━━━━━━━━━━━━╇━━━━━━━━━━━━━━━━━━━━━━━╇━━━━━━━━━━━━━━━━━━━━━━━━━━┩\n",
       "│\u001b[36m \u001b[0m\u001b[36m🔍 No Instructions  \u001b[0m\u001b[36m \u001b[0m│\u001b[33m \u001b[0m\u001b[33mNone (baseline)        \u001b[0m\u001b[33m \u001b[0m│\u001b[34m \u001b[0m\u001b[34m18         \u001b[0m\u001b[34m \u001b[0m│\u001b[32m \u001b[0m\u001b[32mMixed (all types)    \u001b[0m\u001b[32m \u001b[0m│\u001b[31m \u001b[0m\u001b[31mLow (requires filtering)\u001b[0m\u001b[31m \u001b[0m│\n",
       "│\u001b[36m \u001b[0m\u001b[36m❌ Poor Instructions\u001b[0m\u001b[36m \u001b[0m│\u001b[33m \u001b[0m\u001b[33mWhat is LangChain and  \u001b[0m\u001b[33m \u001b[0m│\u001b[34m \u001b[0m\u001b[34m8          \u001b[0m\u001b[34m \u001b[0m│\u001b[32m \u001b[0m\u001b[32mPotentially unfocused\u001b[0m\u001b[32m \u001b[0m│\u001b[31m \u001b[0m\u001b[31mMedium (may need        \u001b[0m\u001b[31m \u001b[0m│\n",
       "│\u001b[36m                      \u001b[0m│\u001b[33m \u001b[0m\u001b[33mhow does it work?      \u001b[0m\u001b[33m \u001b[0m│\u001b[34m             \u001b[0m│\u001b[32m                       \u001b[0m│\u001b[31m \u001b[0m\u001b[31mfiltering)              \u001b[0m\u001b[31m \u001b[0m│\n",
       "│\u001b[36m \u001b[0m\u001b[36m✅ Good Instructions\u001b[0m\u001b[36m \u001b[0m│\u001b[33m \u001b[0m\u001b[33mFind all pages about ai\u001b[0m\u001b[33m \u001b[0m│\u001b[34m \u001b[0m\u001b[34m1          \u001b[0m\u001b[34m \u001b[0m│\u001b[32m \u001b[0m\u001b[32mHighly targeted      \u001b[0m\u001b[32m \u001b[0m│\u001b[31m \u001b[0m\u001b[31mHigh (ready to use)     \u001b[0m\u001b[31m \u001b[0m│\n",
       "│\u001b[36m                      \u001b[0m│\u001b[33m \u001b[0m\u001b[33magents                 \u001b[0m\u001b[33m \u001b[0m│\u001b[34m             \u001b[0m│\u001b[32m                       \u001b[0m│\u001b[31m                          \u001b[0m│\n",
       "└──────────────────────┴─────────────────────────┴─────────────┴───────────────────────┴──────────────────────────┘\n"
      ]
     },
     "metadata": {},
     "output_type": "display_data"
    },
    {
     "data": {
      "text/html": [
       "<pre style=\"white-space:pre;overflow-x:auto;line-height:normal;font-family:Menlo,'DejaVu Sans Mono',consolas,'Courier New',monospace\">\n",
       "<span style=\"color: #000080; text-decoration-color: #000080\">🎯 **Key Observations:**</span>\n",
       "</pre>\n"
      ],
      "text/plain": [
       "\n",
       "\u001b[34m🎯 **Key Observations:**\u001b[0m\n"
      ]
     },
     "metadata": {},
     "output_type": "display_data"
    },
    {
     "data": {
      "text/html": [
       "<pre style=\"white-space:pre;overflow-x:auto;line-height:normal;font-family:Menlo,'DejaVu Sans Mono',consolas,'Courier New',monospace\">   🔍 **No instructions** return everything, requiring manual filtering\n",
       "</pre>\n"
      ],
      "text/plain": [
       "   🔍 **No instructions** return everything, requiring manual filtering\n"
      ]
     },
     "metadata": {},
     "output_type": "display_data"
    },
    {
     "data": {
      "text/html": [
       "<pre style=\"white-space:pre;overflow-x:auto;line-height:normal;font-family:Menlo,'DejaVu Sans Mono',consolas,'Courier New',monospace\">   ❌ **Poor instructions** may return unfocused results\n",
       "</pre>\n"
      ],
      "text/plain": [
       "   ❌ **Poor instructions** may return unfocused results\n"
      ]
     },
     "metadata": {},
     "output_type": "display_data"
    },
    {
     "data": {
      "text/html": [
       "<pre style=\"white-space:pre;overflow-x:auto;line-height:normal;font-family:Menlo,'DejaVu Sans Mono',consolas,'Courier New',monospace\">   ✅ **Good instructions** provide highly targeted, ready-to-use results\n",
       "</pre>\n"
      ],
      "text/plain": [
       "   ✅ **Good instructions** provide highly targeted, ready-to-use results\n"
      ]
     },
     "metadata": {},
     "output_type": "display_data"
    },
    {
     "data": {
      "text/html": [
       "<pre style=\"white-space:pre;overflow-x:auto;line-height:normal;font-family:Menlo,'DejaVu Sans Mono',consolas,'Courier New',monospace\">   💡 **Best practice**: Use specific, action-oriented instructions\n",
       "</pre>\n"
      ],
      "text/plain": [
       "   💡 **Best practice**: Use specific, action-oriented instructions\n"
      ]
     },
     "metadata": {},
     "output_type": "display_data"
    },
    {
     "data": {
      "text/html": [
       "<pre style=\"white-space:pre;overflow-x:auto;line-height:normal;font-family:Menlo,'DejaVu Sans Mono',consolas,'Courier New',monospace\">\n",
       "<span style=\"color: #008000; text-decoration-color: #008000\">📈 **Efficiency with Good Instructions:**</span>\n",
       "</pre>\n"
      ],
      "text/plain": [
       "\n",
       "\u001b[32m📈 **Efficiency with Good Instructions:**\u001b[0m\n"
      ]
     },
     "metadata": {},
     "output_type": "display_data"
    },
    {
     "data": {
      "text/html": [
       "<pre style=\"white-space:pre;overflow-x:auto;line-height:normal;font-family:Menlo,'DejaVu Sans Mono',consolas,'Courier New',monospace\">   🎯 Filtering efficiency: <span style=\"color: #008080; text-decoration-color: #008080; font-weight: bold\">94.4</span>% reduction in noise\n",
       "</pre>\n"
      ],
      "text/plain": [
       "   🎯 Filtering efficiency: \u001b[1;36m94.4\u001b[0m% reduction in noise\n"
      ]
     },
     "metadata": {},
     "output_type": "display_data"
    },
    {
     "data": {
      "text/html": [
       "<pre style=\"white-space:pre;overflow-x:auto;line-height:normal;font-family:Menlo,'DejaVu Sans Mono',consolas,'Courier New',monospace\">   ⚡ Time saved: No manual post-processing required\n",
       "</pre>\n"
      ],
      "text/plain": [
       "   ⚡ Time saved: No manual post-processing required\n"
      ]
     },
     "metadata": {},
     "output_type": "display_data"
    },
    {
     "data": {
      "text/html": [
       "<pre style=\"white-space:pre;overflow-x:auto;line-height:normal;font-family:Menlo,'DejaVu Sans Mono',consolas,'Courier New',monospace\">   🧠 AI-powered: Intelligent path selection and content filtering\n",
       "</pre>\n"
      ],
      "text/plain": [
       "   🧠 AI-powered: Intelligent path selection and content filtering\n"
      ]
     },
     "metadata": {},
     "output_type": "display_data"
    }
   ],
   "source": [
    "# Create comparison table\n",
    "comparison_table = Table(title=\"📊 TavilyCrawl: Instruction Quality Comparison\")\n",
    "comparison_table.add_column(\"Approach\", style=\"cyan\", no_wrap=True)\n",
    "comparison_table.add_column(\"Instructions\", style=\"yellow\")\n",
    "comparison_table.add_column(\"Pages Found\", style=\"blue\")\n",
    "comparison_table.add_column(\"Content Quality\", style=\"green\")\n",
    "comparison_table.add_column(\"Usefulness\", style=\"red\")\n",
    "\n",
    "comparison_table.add_row(\n",
    "    \"🔍 No Instructions\",\n",
    "    \"None (baseline)\",\n",
    "    f\"{len(basic_results)}\",\n",
    "    \"Mixed (all types)\",\n",
    "    \"Low (requires filtering)\"\n",
    ")\n",
    "\n",
    "\n",
    "\n",
    "comparison_table.add_row(\n",
    "    \"✅ Good Instructions\",\n",
    "    good_instructions,\n",
    "    f\"{len(good_results)}\",\n",
    "    \"Highly targeted\",\n",
    "    \"High (ready to use)\"\n",
    ")\n",
    "\n",
    "console.print(comparison_table)\n",
    "\n",
    "console.print(\"\\n🎯 **Key Observations:**\", style=\"blue\")\n",
    "console.print(\"   🔍 **No instructions** return everything, requiring manual filtering\")\n",
    "console.print(\"   ✅ **Good instructions** provide highly targeted, ready-to-use results\")\n",
    "console.print(\"   💡 **Best practice**: Use specific, action-oriented instructions\")\n",
    "\n",
    "console.print(f\"\\n📈 **Efficiency with Good Instructions:**\", style=\"green\")\n",
    "console.print(f\"   🎯 Filtering efficiency: {((len(basic_results) - len(good_results)) / len(basic_results) * 100):.1f}% reduction in noise\")\n",
    "console.print(\"   ⚡ Time saved: No manual post-processing required\")\n",
    "console.print(\"   🧠 AI-powered: Intelligent path selection and content filtering\")"
   ]
  }
 ],
 "metadata": {
  "kernelspec": {
   "display_name": "documentation-helper-zmyxh5Q8",
   "language": "python",
   "name": "python3"
  },
  "language_info": {
   "codemirror_mode": {
    "name": "ipython",
    "version": 3
   },
   "file_extension": ".py",
   "mimetype": "text/x-python",
   "name": "python",
   "nbconvert_exporter": "python",
   "pygments_lexer": "ipython3",
   "version": "3.10.11"
  }
 },
 "nbformat": 4,
 "nbformat_minor": 2
}
